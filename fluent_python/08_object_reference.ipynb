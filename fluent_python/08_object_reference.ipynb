{
 "cells": [
  {
   "cell_type": "markdown",
   "metadata": {},
   "source": [
    "# reference variable"
   ]
  },
  {
   "cell_type": "code",
   "execution_count": null,
   "metadata": {},
   "outputs": [],
   "source": [
    "a = [1, 2, 3]\n",
    "b = a\n",
    "a.append(4)\n",
    "print(b)"
   ]
  },
  {
   "cell_type": "code",
   "execution_count": null,
   "metadata": {},
   "outputs": [],
   "source": [
    "class Gizmo:\n",
    "    def __init__(self):\n",
    "        print('Gizmo id: {}'.format(id(self)))\n",
    "              \n",
    "x = Gizmo()\n",
    "\n",
    "try:\n",
    "    y = Gizmo() + 1\n",
    "except Exception as e:\n",
    "    print(e)\n",
    "    print('y does not assign')\n",
    "\n",
    "print(dir())"
   ]
  },
  {
   "cell_type": "markdown",
   "metadata": {},
   "source": [
    "# == is"
   ]
  },
  {
   "cell_type": "markdown",
   "metadata": {},
   "source": [
    "- `==` compare with `value`\n",
    "- `is` compare with `reference`"
   ]
  },
  {
   "cell_type": "code",
   "execution_count": null,
   "metadata": {},
   "outputs": [],
   "source": [
    "charles = {'name': 'Charles', 'born': 2000}\n",
    "lewis = charles\n",
    "\n",
    "print(lewis == charles)\n",
    "print(lewis is charles)\n",
    "\n",
    "alex = {'name': 'Charles', 'born': 2000}\n",
    "print(alex == charles)\n",
    "print(alex is charles)\n",
    "\n",
    "print('lewis id: ', id(lewis))\n",
    "print('charles id: ', id(charles))\n",
    "print('alex id: ', id(alex))"
   ]
  },
  {
   "cell_type": "code",
   "execution_count": null,
   "metadata": {},
   "outputs": [],
   "source": [
    "t1 = (1, 2, [30, 40])\n",
    "t2 = (1, 2, [30, 40])\n",
    "\n",
    "print(t1 == t2)\n",
    "print(t1 is t2)\n",
    "\n",
    "t1[-1].append(50)\n",
    "print(t1)"
   ]
  },
  {
   "cell_type": "markdown",
   "metadata": {},
   "source": [
    "# copy"
   ]
  },
  {
   "cell_type": "code",
   "execution_count": null,
   "metadata": {},
   "outputs": [],
   "source": [
    "import copy\n",
    "\n",
    "l0 = [3, (33, 44, 55), [11, 22]]\n",
    "\n",
    "# copy by reference\n",
    "l1 = l0\n",
    "\n",
    "# shallow copy\n",
    "l2 = list(l0)\n",
    "\n",
    "# deep copy\n",
    "l3 = copy.deepcopy(l0)\n",
    "\n",
    "l0.append(99)\n",
    "l0[2].append(33)\n",
    "\n",
    "print('l0: ', l0)\n",
    "print('l1: ', l1)\n",
    "print('l2: ', l2)\n",
    "print('l3: ', l3)"
   ]
  },
  {
   "cell_type": "markdown",
   "metadata": {},
   "source": [
    "# class reference"
   ]
  },
  {
   "cell_type": "code",
   "execution_count": null,
   "metadata": {},
   "outputs": [],
   "source": [
    "import copy\n",
    "\n",
    "class Bus1:\n",
    "    def __init__(self, passengers=None):\n",
    "        if passengers is None:\n",
    "            self.passengers = []\n",
    "        else:\n",
    "            self.passengers = list(passengers)\n",
    "            \n",
    "    def pick(self, name):\n",
    "        self.passengers.append(name)\n",
    "            \n",
    "    def drop(self, name):\n",
    "        self.passengers.remove(name)\n",
    "\n",
    "bus1 = Bus1(['Alice', 'Bill', 'Claire', 'David'])\n",
    "bus2 = copy.copy(bus1)\n",
    "bus3 = copy.deepcopy(bus1)\n",
    "\n",
    "print('bus1 id: ', id(bus1))\n",
    "print('bus2 id: ', id(bus2))\n",
    "print('bus3 id: ', id(bus3))\n",
    "\n",
    "bus1.drop('Bill')\n",
    "print('bus1 passengers:', bus1.passengers)\n",
    "print('bus2 passengers:', bus2.passengers)\n",
    "print('bus3 passengers:', bus3.passengers)"
   ]
  },
  {
   "cell_type": "code",
   "execution_count": null,
   "metadata": {},
   "outputs": [],
   "source": [
    "# bug\n",
    "\n",
    "class Bus2:\n",
    "    def __init__(self, passengers=[]):\n",
    "        self.passengers = passengers\n",
    "            \n",
    "    def pick(self, name):\n",
    "        self.passengers.append(name)\n",
    "            \n",
    "    def drop(self, name):\n",
    "        self.passengers.remove(name)\n",
    "        \n",
    "bus1 = Bus2(['Alice', 'Bill', 'Claire', 'David'])\n",
    "bus2 = Bus2()\n",
    "bus3 = Bus2()\n",
    "\n",
    "bus1.pick('Eric')\n",
    "bus2.pick('Frank')\n",
    "\n",
    "print('bus1 passengers:', bus1.passengers)\n",
    "print('bus2 passengers:', bus2.passengers)\n",
    "print('bus3 passengers:', bus3.passengers)"
   ]
  },
  {
   "cell_type": "markdown",
   "metadata": {},
   "source": [
    "# weak reference"
   ]
  },
  {
   "cell_type": "code",
   "execution_count": null,
   "metadata": {},
   "outputs": [],
   "source": [
    "import sys\n",
    "import weakref\n",
    "\n",
    "class Foo(object):\n",
    "    def __init__(self):\n",
    "        self.obj = None\n",
    "        print('created')\n",
    "\n",
    "    def __del__(self):\n",
    "        print('destroyed')\n",
    "\n",
    "    def show(self):\n",
    "        print(self.obj)\n",
    "\n",
    "    def store(self, obj):\n",
    "        self.obj = obj\n",
    "\n",
    "f1 = Foo()\n",
    "print('f1 reference cout:', sys.getrefcount(f1))\n",
    "f1.store('foo')\n",
    "\n",
    "f2 = f1\n",
    "print('f1 reference cout:', sys.getrefcount(f1))\n",
    "\n",
    "# weak reference\n",
    "f3 = weakref.ref(f1)\n",
    "print('f1 reference cout:', sys.getrefcount(f1))\n",
    "\n",
    "print('f1 id:', id(f1))\n",
    "f1.show()\n",
    "\n",
    "print('f2 id:', id(f2))\n",
    "f2.show()\n",
    "\n",
    "print('f3 id:', id(f3))\n",
    "print('f3() id:', id(f3()))\n",
    "f3().show()\n",
    "\n",
    "del f2\n",
    "print('f1 reference cout:', sys.getrefcount(f1))\n",
    "\n",
    "print('f1 is None:', f1 is None)\n",
    "print('f3 is None:', f3() is None)\n",
    "\n",
    "del f1\n",
    "print('f3 is None:', f3() is None)"
   ]
  }
 ],
 "metadata": {
  "kernelspec": {
   "display_name": "Python 3",
   "language": "python",
   "name": "python3"
  },
  "language_info": {
   "codemirror_mode": {
    "name": "ipython",
    "version": 3
   },
   "file_extension": ".py",
   "mimetype": "text/x-python",
   "name": "python",
   "nbconvert_exporter": "python",
   "pygments_lexer": "ipython3",
   "version": "3.6.0"
  }
 },
 "nbformat": 4,
 "nbformat_minor": 2
}
