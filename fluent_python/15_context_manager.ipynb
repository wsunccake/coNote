{
 "cells": [
  {
   "cell_type": "markdown",
   "metadata": {},
   "source": [
    "# context manager"
   ]
  },
  {
   "cell_type": "markdown",
   "metadata": {},
   "source": [
    "- \\_\\_enter\\_\\_\n",
    "- \\_\\_exit\\_\\_"
   ]
  },
  {
   "cell_type": "code",
   "execution_count": null,
   "metadata": {},
   "outputs": [],
   "source": [
    "class LookingGlass:\n",
    "\n",
    "    def __enter__(self):\n",
    "        import sys\n",
    "        self.original_write = sys.stdout.write\n",
    "        sys.stdout.write = self.reverse_write\n",
    "        return 'ABCDE'\n",
    "\n",
    "    def reverse_write(self, text):\n",
    "        self.original_write(text[::-1])\n",
    "\n",
    "    def __exit__(self, exc_type, exc_value, traceback):\n",
    "        import sys\n",
    "        sys.stdout.write = self.original_write\n",
    "        if exc_type is ZeroDivisionError:\n",
    "            print('Please DO NOT divide by zero!')\n",
    "            return True"
   ]
  },
  {
   "cell_type": "code",
   "execution_count": null,
   "metadata": {},
   "outputs": [],
   "source": [
    "manager1 = LookingGlass()\n",
    "monster1 = manager1.__enter__()\n",
    "print(monster1 == 'ABCDE')\n",
    "print(monster1)\n",
    "print('Test 123')\n",
    "\n",
    "manager1.__exit__(None, None, None)\n",
    "print(monster1)\n",
    "print('Test 123')"
   ]
  },
  {
   "cell_type": "code",
   "execution_count": null,
   "metadata": {},
   "outputs": [],
   "source": [
    "with LookingGlass() as what:\n",
    "    print('12345')\n",
    "    print(what)\n",
    "    print('Test 123')\n",
    "    \n",
    "print(what)\n",
    "print('Test 123')"
   ]
  },
  {
   "cell_type": "markdown",
   "metadata": {},
   "source": [
    "- @contextmanager\n",
    "- closing\n",
    "- suppress\n",
    "- ContextDecorator\n",
    "- ExitStack"
   ]
  },
  {
   "cell_type": "code",
   "execution_count": null,
   "metadata": {},
   "outputs": [],
   "source": [
    "import contextlib\n",
    "\n",
    "@contextlib.contextmanager\n",
    "def looking_glass():\n",
    "    import sys\n",
    "    original_write = sys.stdout.write\n",
    "\n",
    "    def reverse_write(text):\n",
    "        original_write(text[::-1])\n",
    "\n",
    "    sys.stdout.write = reverse_write\n",
    "    msg = ''\n",
    "    try:\n",
    "        yield 'ABCDE'\n",
    "    except ZeroDivisionError:\n",
    "        msg = 'Please DO NOT divide by zero!'\n",
    "    finally:\n",
    "        sys.stdout.write = original_write\n",
    "        if msg:\n",
    "            print(msg)\n",
    "    \n",
    "with looking_glass() as what:\n",
    "    print('12345')\n",
    "    print(what)\n",
    "    print('Test 123')\n",
    "    \n",
    "print(what)\n",
    "print('Test 123')"
   ]
  }
 ],
 "metadata": {
  "kernelspec": {
   "display_name": "Python 3",
   "language": "python",
   "name": "python3"
  },
  "language_info": {
   "codemirror_mode": {
    "name": "ipython",
    "version": 3
   },
   "file_extension": ".py",
   "mimetype": "text/x-python",
   "name": "python",
   "nbconvert_exporter": "python",
   "pygments_lexer": "ipython3",
   "version": "3.6.0"
  }
 },
 "nbformat": 4,
 "nbformat_minor": 2
}
