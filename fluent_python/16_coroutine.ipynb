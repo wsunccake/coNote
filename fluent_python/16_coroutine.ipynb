{
 "cells": [
  {
   "cell_type": "markdown",
   "metadata": {},
   "source": [
    "# coroutine"
   ]
  },
  {
   "cell_type": "code",
   "execution_count": null,
   "metadata": {},
   "outputs": [],
   "source": [
    "def simple_coroutine1():\n",
    "    print('-> coroutine started')\n",
    "    x = yield\n",
    "    print('-> coroutine received', x)\n",
    "    \n",
    "my_coro1 = simple_coroutine1()\n",
    "print(my_coro1)\n",
    "next(my_coro1)\n",
    "\n",
    "try:\n",
    "    my_coro1.send(123)\n",
    "except StopIteration as e:\n",
    "    print('StopIteration')"
   ]
  },
  {
   "cell_type": "markdown",
   "metadata": {},
   "source": [
    "- GEN_CREATED\n",
    "- GEN_RUNNING\n",
    "- GEN_SUSPENDED\n",
    "- GEN_CLOSED"
   ]
  },
  {
   "cell_type": "code",
   "execution_count": null,
   "metadata": {},
   "outputs": [],
   "source": [
    "def simple_coroutine2(a):\n",
    "    print('-> Started: a =', a)\n",
    "    b = yield a\n",
    "    print('-> Received: b =', b)\n",
    "    c = yield a + b\n",
    "    print('-> Started: c =', c)\n",
    "    \n",
    "my_coro2 = simple_coroutine2(2)\n",
    "\n",
    "from inspect import getgeneratorstate\n",
    "print(getgeneratorstate(my_coro2))  # GEN_CREATED\n",
    "\n",
    "next(my_coro2)\n",
    "print(getgeneratorstate(my_coro2))  # GEN_SUSPENDED\n",
    "\n",
    "try:\n",
    "    my_coro2.send(13)\n",
    "    my_coro2.send(125)\n",
    "except StopIteration as e:\n",
    "    print('StopIteration')\n",
    "else:\n",
    "    print('No StopIteration')\n",
    "finally:\n",
    "    print(getgeneratorstate(my_coro2))  # GEN_SUSPENDED"
   ]
  },
  {
   "cell_type": "markdown",
   "metadata": {},
   "source": [
    "## without decorator"
   ]
  },
  {
   "cell_type": "code",
   "execution_count": null,
   "metadata": {},
   "outputs": [],
   "source": [
    "def averager0():\n",
    "    total = 0.0\n",
    "    count = 0\n",
    "    average = None\n",
    "    while True:  # <1>\n",
    "        term = yield average  # <2>\n",
    "        total += term\n",
    "        count += 1\n",
    "        average = total/count\n",
    "        \n",
    "avg0 = averager0()\n",
    "next(avg0)\n",
    "print(avg0.send(10))\n",
    "print(avg0.send(30))\n",
    "print(avg0.send(5))"
   ]
  },
  {
   "cell_type": "markdown",
   "metadata": {},
   "source": [
    "## with  decorator"
   ]
  },
  {
   "cell_type": "code",
   "execution_count": null,
   "metadata": {},
   "outputs": [],
   "source": [
    "from functools import wraps\n",
    "\n",
    "def coroutine(func):\n",
    "    \"\"\"Decorator: primes `func` by advancing to first `yield`\"\"\"\n",
    "    @wraps(func)\n",
    "    def primer(*args,**kwargs):\n",
    "        gen = func(*args,**kwargs)\n",
    "        next(gen)\n",
    "        return gen\n",
    "    return primer\n",
    "\n",
    "@coroutine\n",
    "def averager1():\n",
    "    total = 0.0\n",
    "    count = 0\n",
    "    average = None\n",
    "    while True:\n",
    "        term = yield average\n",
    "        total += term\n",
    "        count += 1\n",
    "        average = total/count\n",
    "        \n",
    "avg1 = averager1()\n",
    "print(avg1.send(10))\n",
    "print(avg1.send(30))\n",
    "print(avg1.send(5))"
   ]
  },
  {
   "cell_type": "markdown",
   "metadata": {},
   "source": [
    "## with exception"
   ]
  },
  {
   "cell_type": "code",
   "execution_count": null,
   "metadata": {},
   "outputs": [],
   "source": [
    "class DemoException(Exception):\n",
    "    \"\"\"An exception type for the demonstration.\"\"\"\n",
    "\n",
    "def demo_exc_handling():\n",
    "    print('-> coroutine started')\n",
    "    while True:\n",
    "        try:\n",
    "            x = yield\n",
    "        except DemoException:\n",
    "            print('*** DemoException handled. Continuing...')\n",
    "        else:  # <2>\n",
    "            print('-> coroutine received: {!r}'.format(x))\n",
    "    raise RuntimeError('This line should never run.')\n",
    "    \n",
    "demo = demo_exc_handling()\n",
    "next(demo)\n",
    "\n",
    "from inspect import getgeneratorstate\n",
    "\n",
    "print(demo.send(11))\n",
    "print(demo.send(22))\n",
    "\n",
    "demo.throw(DemoException)\n",
    "print(getgeneratorstate(demo))\n",
    "\n",
    "try:\n",
    "    demo.throw(ZeroDivisionError)\n",
    "except:\n",
    "    print('Error')\n",
    "print(getgeneratorstate(demo))"
   ]
  },
  {
   "cell_type": "markdown",
   "metadata": {},
   "source": [
    "# yield from"
   ]
  },
  {
   "cell_type": "markdown",
   "metadata": {},
   "source": [
    "- delegating generator\n",
    "- subgenerator\n",
    "- caller"
   ]
  },
  {
   "cell_type": "code",
   "execution_count": null,
   "metadata": {},
   "outputs": [],
   "source": [
    "def f1():\n",
    "    yield range(5)\n",
    "\n",
    "it1 = f1()\n",
    "\n",
    "for i in it1:\n",
    "    print(i)"
   ]
  },
  {
   "cell_type": "code",
   "execution_count": null,
   "metadata": {},
   "outputs": [],
   "source": [
    "def f2():\n",
    "    yield from range(5)\n",
    "\n",
    "it2 = f2()\n",
    "    \n",
    "for i in it2:\n",
    "    print(i)"
   ]
  }
 ],
 "metadata": {
  "kernelspec": {
   "display_name": "Python 3",
   "language": "python",
   "name": "python3"
  },
  "language_info": {
   "codemirror_mode": {
    "name": "ipython",
    "version": 3
   },
   "file_extension": ".py",
   "mimetype": "text/x-python",
   "name": "python",
   "nbconvert_exporter": "python",
   "pygments_lexer": "ipython3",
   "version": "3.6.0"
  }
 },
 "nbformat": 4,
 "nbformat_minor": 2
}
