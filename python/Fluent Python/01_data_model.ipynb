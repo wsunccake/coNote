{
 "cells": [
  {
   "cell_type": "markdown",
   "metadata": {},
   "source": [
    "# namedtuple"
   ]
  },
  {
   "cell_type": "code",
   "execution_count": null,
   "metadata": {},
   "outputs": [],
   "source": [
    "from collections import namedtuple\n",
    " \n",
    "Friend=namedtuple(\"Friend\",['name','age','email'])\n",
    " \n",
    "f1=Friend('kitty',1,'kitty@email.com')\n",
    "print(f1)\n",
    "print(f1.age)\n",
    "print(f1.email)\n",
    "\n",
    "f2=Friend(name='daniel',email='daniel@email.com',age=1)\n",
    "print(f2) \n",
    "\n",
    "name,age,email=f2\n",
    "print(name, age, email)\n",
    "\n",
    "dir(Friend)"
   ]
  },
  {
   "cell_type": "markdown",
   "metadata": {},
   "source": [
    "---"
   ]
  },
  {
   "cell_type": "markdown",
   "metadata": {},
   "source": [
    "# magic method"
   ]
  },
  {
   "cell_type": "code",
   "execution_count": null,
   "metadata": {},
   "outputs": [],
   "source": [
    "import collections\n",
    "\n",
    "Card = collections.namedtuple('Card', ['rank', 'suit'])\n",
    "\n",
    "class FrenchDeck:\n",
    "    ranks = [str(n) for n in range(2, 11)] + list('JQKA')\n",
    "    suits = 'spades diamonds clubs hearts'.split()\n",
    "\n",
    "    def __init__(self):\n",
    "        self._cards = [Card(rank, suit) for suit in self.suits for rank in self.ranks]\n",
    "\n",
    "    def __len__(self):\n",
    "        return len(self._cards)\n",
    "\n",
    "    def __getitem__(self, position):\n",
    "        return self._cards[position]"
   ]
  },
  {
   "cell_type": "code",
   "execution_count": null,
   "metadata": {
    "scrolled": true
   },
   "outputs": [],
   "source": [
    "deck = FrenchDeck()\n",
    "print(len(deck))   # __len__ => len(obj)\n",
    "print(deck[12])    # __getitem__ = obj[]"
   ]
  },
  {
   "cell_type": "code",
   "execution_count": null,
   "metadata": {},
   "outputs": [],
   "source": [
    "import random\n",
    "\n",
    "card1 = random.choice(deck)\n",
    "print(card1)\n",
    "print(deck[:3])\n",
    "print(Card('Z', 'clubs') in deck)"
   ]
  },
  {
   "cell_type": "code",
   "execution_count": null,
   "metadata": {},
   "outputs": [],
   "source": [
    "for card in deck:\n",
    "    print(card)"
   ]
  },
  {
   "cell_type": "markdown",
   "metadata": {},
   "source": [
    "---"
   ]
  },
  {
   "cell_type": "markdown",
   "metadata": {},
   "source": [
    "# dunder"
   ]
  },
  {
   "cell_type": "markdown",
   "metadata": {},
   "source": [
    "## Unary Operator"
   ]
  },
  {
   "cell_type": "markdown",
   "metadata": {},
   "source": [
    "| Operator \t\t| Method \t\t\t\t\t|\n",
    "| --- \t\t\t| --- \t\t\t\t\t\t|\n",
    "| -\t\t\t\t| \\_\\_neg\\_\\_(self) \t\t|\n",
    "| +\t\t\t\t| \\_\\_pos\\_\\_(self) \t\t|\n",
    "| abs()\t\t\t| \\_\\_abs\\_\\_(self) \t\t|\n",
    "| ~ \t\t\t| \\_\\_invert\\_\\_(self) \t\t|\n",
    "| complex() \t| \\_\\_complex\\_\\_(self) \t|\n",
    "| int() \t\t| \\_\\_int\\_\\_(self) \t\t|\n",
    "| long() \t\t| \\_\\_long\\_\\_(self) \t\t|\n",
    "| float() \t\t| \\_\\_float\\_\\_(self) \t\t|\n",
    "| oct() \t\t| \\_\\_oct\\_\\_(self) \t\t|\n",
    "| hex() \t\t| \\_\\_hex\\_\\_(self) \t\t|"
   ]
  },
  {
   "cell_type": "markdown",
   "metadata": {},
   "source": [
    "## Binary Operator"
   ]
  },
  {
   "cell_type": "markdown",
   "metadata": {},
   "source": [
    "| Operator \t\t| Method \t\t\t\t\t\t\t\t|\n",
    "| --- \t\t\t| --- \t\t\t\t\t\t\t\t\t|\n",
    "| + \t\t\t| \\_\\_add\\_\\_(self, other) \t\t\t\t|\n",
    "| - \t\t\t| \\_\\_sub\\_\\_(self, other) \t\t\t\t|\n",
    "| * \t\t\t| \\_\\_mul\\_\\_(self, other) \t\t\t\t|\n",
    "| // \t\t\t| \\_\\_floordiv\\_\\_(self, other) \t\t|\n",
    "| / \t\t\t| \\_\\_truediv\\_\\_(self, other) \t\t\t|\n",
    "| % \t\t\t| \\_\\_mod\\_\\_(self, other) \t\t\t\t|\n",
    "| ** \t\t\t| \\_\\_pow\\_\\_(self, other[, modulo]) \t|\n",
    "| << \t\t\t| \\_\\_lshift\\_\\_(self, other) \t\t\t|\n",
    "| >> \t\t\t| \\_\\_rshift\\_\\_(self, other) \t\t\t|\n",
    "| & \t\t\t| \\_\\_and\\_\\_(self, other) \t\t\t\t|\n",
    "| ^ \t\t\t| \\_\\_xor\\_\\_(self, other) \t\t\t\t|\n",
    "| | \t\t\t| \\_\\_or\\_\\_(self, other) \t\t\t\t|"
   ]
  },
  {
   "cell_type": "markdown",
   "metadata": {},
   "source": [
    "## Comparison Operator"
   ]
  },
  {
   "cell_type": "markdown",
   "metadata": {},
   "source": [
    "| Operator \t| Method \t\t\t\t\t|\n",
    "| --- \t\t| --- \t\t\t\t\t\t|\n",
    "| < \t\t| \\_\\_lt\\_\\_(self, other) \t|\n",
    "| <= \t\t| \\_\\_le\\_\\_(self, other) \t|\n",
    "| == \t\t| \\_\\_eq\\_\\_(self, other) \t|\n",
    "| != \t\t| \\_\\_ne\\_\\_(self, other) \t|\n",
    "| >= \t\t| \\_\\_ge\\_\\_(self, other) \t|\n",
    "| > \t\t| \\_\\_gt\\_\\_(self, other) \t|"
   ]
  },
  {
   "cell_type": "markdown",
   "metadata": {},
   "source": [
    "## Extended Assignment"
   ]
  },
  {
   "cell_type": "markdown",
   "metadata": {},
   "source": [
    "| Operator \t| Method \t\t\t\t\t\t\t\t|\n",
    "| --- \t\t| --- \t\t\t\t\t\t\t\t\t|\n",
    "| += \t\t| \\_\\_iadd\\_\\_(self, other) \t\t\t|\n",
    "| -= \t\t| \\_\\_isub\\_\\_(self, other) \t\t\t|\n",
    "| *= \t\t| \\_\\_imul\\_\\_(self, other) \t\t\t|\n",
    "| /= \t\t| \\_\\_idiv\\_\\_(self, other) \t\t\t|\n",
    "| //= \t\t| \\_\\_ifloordiv\\_\\_(self, other) \t\t|\n",
    "| %= \t\t| \\_\\_imod\\_\\_(self, other) \t\t\t|\n",
    "| **= \t\t| \\_\\_ipow\\_\\_(self, other[, modulo]) \t|\n",
    "| <<= \t\t| \\_\\_ilshift\\_\\_(self, other) \t\t\t|\n",
    "| >>= \t\t| \\_\\_irshift\\_\\_(self, other) \t\t\t|\n",
    "| &= \t\t| \\_\\_iand\\_\\_(self, other) \t\t\t|\n",
    "| ^= \t\t| \\_\\_ixor\\_\\_(self, other) \t\t\t|\n",
    "| |= \t\t| \\_\\_ior\\_\\_(self, other) \t\t\t\t|"
   ]
  },
  {
   "cell_type": "code",
   "execution_count": null,
   "metadata": {},
   "outputs": [],
   "source": [
    "from math import hypot\n",
    "\n",
    "class Vector:\n",
    "\n",
    "    def __init__(self, x=0, y=0):\n",
    "        self.x = x\n",
    "        self.y = y\n",
    "\n",
    "    def __repr__(self):\n",
    "        return 'Vector(%r, %r)' % (self.x, self.y)\n",
    "\n",
    "    def __abs__(self):\n",
    "        return hypot(self.x, self.y)\n",
    "\n",
    "    def __bool__(self):\n",
    "        return bool(abs(self))\n",
    "\n",
    "    def __add__(self, other):\n",
    "        x = self.x + other.x\n",
    "        y = self.y + other.y\n",
    "        return Vector(x, y)\n",
    "\n",
    "    def __mul__(self, scalar):\n",
    "        return Vector(self.x * scalar, self.y * scalar)"
   ]
  },
  {
   "cell_type": "code",
   "execution_count": null,
   "metadata": {},
   "outputs": [],
   "source": [
    "v1 = Vector(1, 0)\n",
    "v2 = Vector(1, 1)\n",
    "\n",
    "print(v1 + v2)\n",
    "print(v1 * 2)\n",
    "print(abs(v1))"
   ]
  }
 ],
 "metadata": {
  "kernelspec": {
   "display_name": "Python 3",
   "language": "python",
   "name": "python3"
  },
  "language_info": {
   "codemirror_mode": {
    "name": "ipython",
    "version": 3
   },
   "file_extension": ".py",
   "mimetype": "text/x-python",
   "name": "python",
   "nbconvert_exporter": "python",
   "pygments_lexer": "ipython3",
   "version": "3.6.0"
  }
 },
 "nbformat": 4,
 "nbformat_minor": 2
}
