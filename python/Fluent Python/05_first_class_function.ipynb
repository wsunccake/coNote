{
 "cells": [
  {
   "cell_type": "markdown",
   "metadata": {},
   "source": [
    "# funciton"
   ]
  },
  {
   "cell_type": "code",
   "execution_count": null,
   "metadata": {},
   "outputs": [],
   "source": [
    "def factorial(n):\n",
    "    '''return n!'''\n",
    "    return 1 if n < 2 else n * factorial(n - 1)\n",
    "    \n",
    "print(factorial(5))\n",
    "print(factorial.__doc__)\n",
    "print(type(factorial))\n",
    "\n",
    "fact = factorial\n",
    "print(fact(5))"
   ]
  },
  {
   "cell_type": "markdown",
   "metadata": {},
   "source": [
    "## lambda"
   ]
  },
  {
   "cell_type": "code",
   "execution_count": null,
   "metadata": {},
   "outputs": [],
   "source": [
    "fruits = ['strawberry', 'fig', 'apple', 'cherry', 'rasberry', 'banna']\n",
    "\n",
    "def reverse(word):\n",
    "    return word[::-1]\n",
    "print(reverse('1234'))\n",
    "\n",
    "s1 = sorted(fruits, key=reverse)\n",
    "s2 = sorted(fruits, key=lambda word: word[::-1])\n",
    "print(s1)\n",
    "print(s2)"
   ]
  },
  {
   "cell_type": "markdown",
   "metadata": {},
   "source": [
    "## class \\_\\_call\\_\\_"
   ]
  },
  {
   "cell_type": "code",
   "execution_count": null,
   "metadata": {},
   "outputs": [],
   "source": [
    "import random\n",
    "\n",
    "class BingoCage():\n",
    "    def __init__(self, items):\n",
    "        self._items = list(items)\n",
    "        random.shuffle(self._items)\n",
    "        \n",
    "    def pick(self):\n",
    "        try:\n",
    "            return self._items.pop()\n",
    "        except IndexError:\n",
    "            raise LookupError('pick from empty BingoCage')\n",
    "            \n",
    "    def __call__(self):\n",
    "        return self.pick()\n",
    "    \n",
    "bingo = BingoCage(range(3))\n",
    "print(bingo.pick())\n",
    "print(bingo())\n",
    "print(callable(bingo))"
   ]
  },
  {
   "cell_type": "markdown",
   "metadata": {},
   "source": [
    "- \\_\\_doc\\_\\_\n",
    "- \\_\\_defults\\_\\_\n",
    "- \\_\\_code\\_\\_\n",
    "- \\_\\_annotations\\_\\_"
   ]
  },
  {
   "cell_type": "code",
   "execution_count": null,
   "metadata": {},
   "outputs": [],
   "source": [
    "# empty class\n",
    "class ClassC: pass\n",
    "\n",
    "# empty function\n",
    "def funC(): pass\n",
    "\n",
    "obj_c = ClassC()\n",
    "result = sorted(set(dir(funC)) - set(dir(obj_c)))\n",
    "print(result)"
   ]
  },
  {
   "cell_type": "code",
   "execution_count": null,
   "metadata": {},
   "outputs": [],
   "source": [
    "def foo_fun(a, b = \"it's b\", c = 5):\n",
    "    '''foo function comment'''\n",
    "    return a, b, c\n",
    "\n",
    "def bar_fun(a: int, b: \"it's b\", c: str = 5) -> tuple:\n",
    "    ''' bar function comment'''\n",
    "    return a, b, c\n",
    "\n",
    "\n",
    "print(foo_fun.__doc__)\n",
    "print(foo_fun.__annotations__)\n",
    "print(foo_fun.__defaults__)\n",
    "\n",
    "print(bar_fun.__doc__)\n",
    "print(bar_fun.__annotations__)\n",
    "print(bar_fun.__defaults__)\n",
    "\n",
    "# inspect module\n",
    "import inspect\n",
    "foo_ins = inspect.signature(foo_fun)\n",
    "bar_ins = inspect.signature(bar_fun)\n",
    "\n",
    "print(foo_ins)\n",
    "print(str(foo_ins.parameters))\n",
    "\n",
    "print(bar_ins)\n",
    "print(str(bar_ins.parameters))"
   ]
  },
  {
   "cell_type": "markdown",
   "metadata": {},
   "source": [
    "- map\n",
    "- reduce\n",
    "- filter\n",
    "- apply => fn(*args, **kwargs)\n",
    "- all\n",
    "- any"
   ]
  },
  {
   "cell_type": "code",
   "execution_count": null,
   "metadata": {},
   "outputs": [],
   "source": [
    "# map\n",
    "def fact(n):\n",
    "    return 1 if n < 2 else n * fact(n - 1)\n",
    "\n",
    "m1 = [fact(n) for n in range(6)]\n",
    "m2 = list(map(fact, range(6)))\n",
    "print(m1)\n",
    "print(m2)\n",
    "\n",
    "# filter\n",
    "f1 = [fact(n) for n in range(6) if n % 2]\n",
    "f2 = list(map(fact, filter(lambda n: n % 2, range(6))))\n",
    "print(f1)\n",
    "print(f2)\n",
    "\n",
    "# reduce\n",
    "import functools\n",
    "r1 = functools.reduce(lambda x, y: x * y, range(1, 6))\n",
    "print(r1)\n",
    "\n",
    "tmp_list = [1, 3, 5]\n",
    "\n",
    "# any\n",
    "a1 = any([ True, True, True ])\n",
    "a2 = any([ x > 10 for x in tmp_list])\n",
    "print(a1)\n",
    "print(a2)\n",
    "\n",
    "# all\n",
    "a3 = all([True, False, True])\n",
    "a4 = all([ x < 10 for x in tmp_list])\n",
    "print(a3)\n",
    "print(a4)"
   ]
  },
  {
   "cell_type": "markdown",
   "metadata": {},
   "source": [
    "## currying / paritial"
   ]
  },
  {
   "cell_type": "code",
   "execution_count": null,
   "metadata": {},
   "outputs": [],
   "source": [
    "import functools\n",
    "\n",
    "def add3(x, y, z):\n",
    "    return x + y + z\n",
    "\n",
    "two_add2 = functools.partial(add3, 2)\n",
    "print(two_add2(3, 4))\n",
    "\n",
    "three_add2 = lambda x, y: add3(3, x, y)\n",
    "print(three_add2(4, 5))"
   ]
  }
 ],
 "metadata": {
  "kernelspec": {
   "display_name": "Python 3",
   "language": "python",
   "name": "python3"
  },
  "language_info": {
   "codemirror_mode": {
    "name": "ipython",
    "version": 3
   },
   "file_extension": ".py",
   "mimetype": "text/x-python",
   "name": "python",
   "nbconvert_exporter": "python",
   "pygments_lexer": "ipython3",
   "version": "3.6.0"
  }
 },
 "nbformat": 4,
 "nbformat_minor": 2
}
