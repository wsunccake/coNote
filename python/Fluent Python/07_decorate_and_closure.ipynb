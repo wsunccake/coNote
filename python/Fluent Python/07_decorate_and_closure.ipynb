{
 "cells": [
  {
   "cell_type": "markdown",
   "metadata": {},
   "source": [
    "# decorate"
   ]
  },
  {
   "cell_type": "code",
   "execution_count": null,
   "metadata": {},
   "outputs": [],
   "source": [
    "registry = []\n",
    "\n",
    "def register(func):\n",
    "    print('running register({})'.format(func))\n",
    "    registry.append(func)\n",
    "    return func\n",
    "\n",
    "@register\n",
    "def f1():\n",
    "    print('running f1()')\n",
    "    \n",
    "@register\n",
    "def f2():\n",
    "    print('running f2()')\n",
    "\n",
    "def f3():\n",
    "    print('running f3()')\n",
    "\n",
    "def main():\n",
    "    print('running main()')\n",
    "    print('registry ->', registry)\n",
    "    f1()\n",
    "    f2()\n",
    "    f3()\n",
    "    \n",
    "if __name__ == '__main__':\n",
    "    main()"
   ]
  },
  {
   "cell_type": "code",
   "execution_count": null,
   "metadata": {},
   "outputs": [],
   "source": [
    "import time\n",
    "\n",
    "def clock(func):\n",
    "    def clocked(*args):\n",
    "        t0 = time.perf_counter()\n",
    "        result = func(*args)\n",
    "        elapsed = time.perf_counter() - t0\n",
    "        name = func.__name__\n",
    "        arg_str = ', '.join(repr(arg) for arg in args)\n",
    "        print('[{:.9f}s] {!s}{!s} -> {!r}'.format(elapsed, name, arg_str, result))\n",
    "        return result\n",
    "    return clocked\n",
    "\n",
    "@clock\n",
    "def snooze(seconds):\n",
    "    time.sleep(seconds)\n",
    "    \n",
    "@clock\n",
    "def factorial(n):\n",
    "    return 1 if n < 2 else n * factorial(n-1)\n",
    "\n",
    "print('*' * 40, 'Calling snooze(0.123)')\n",
    "snooze(0.123)\n",
    "print('*' * 40, 'Calling factorial(6)')\n",
    "print('6! = ', factorial(6))"
   ]
  },
  {
   "cell_type": "code",
   "execution_count": null,
   "metadata": {},
   "outputs": [],
   "source": [
    "registry = set()\n",
    "\n",
    "def register(active=True):\n",
    "\n",
    "    def decorate(func):\n",
    "        print('running register({}) -> decprate({})'.format(active, func))\n",
    "        if active:\n",
    "            registry.add(func)\n",
    "        else:\n",
    "            registry.discard(func)\n",
    "        return func\n",
    "\n",
    "    return decorate\n",
    "\n",
    "@register(active=False)\n",
    "def f1():\n",
    "    print('running f1()')\n",
    "    \n",
    "@register()\n",
    "def f2():\n",
    "    print('running f2()')\n",
    "\n",
    "def f3():\n",
    "    print('running f3()')\n",
    "\n",
    "def main():\n",
    "    print('running main()')\n",
    "    print('registry ->', registry)\n",
    "    f1()\n",
    "    f2()\n",
    "    f3()\n",
    "    \n",
    "if __name__ == '__main__':\n",
    "    main()"
   ]
  },
  {
   "cell_type": "markdown",
   "metadata": {},
   "source": [
    "---"
   ]
  },
  {
   "cell_type": "markdown",
   "metadata": {},
   "source": [
    "# scope"
   ]
  },
  {
   "cell_type": "code",
   "execution_count": null,
   "metadata": {},
   "outputs": [],
   "source": [
    "# wrong example\n",
    "\n",
    "def f1(a1):\n",
    "    print(a1)\n",
    "    print(b1)\n",
    "\n",
    "f1(3)\n",
    "print(b1)"
   ]
  },
  {
   "cell_type": "code",
   "execution_count": null,
   "metadata": {},
   "outputs": [],
   "source": [
    "# global variable\n",
    "\n",
    "def f11(a11):\n",
    "    print(a11)\n",
    "    print(b11)\n",
    "\n",
    "b11 = 6\n",
    "f11(3)\n",
    "print(b11)"
   ]
  },
  {
   "cell_type": "code",
   "execution_count": null,
   "metadata": {},
   "outputs": [],
   "source": [
    "# wrong example\n",
    "\n",
    "def f2(a2):\n",
    "    print(a2)\n",
    "    print(b2)\n",
    "    b2 = 9\n",
    "\n",
    "b2 = 6\n",
    "f2(3)\n",
    "print(b2)"
   ]
  },
  {
   "cell_type": "code",
   "execution_count": null,
   "metadata": {},
   "outputs": [],
   "source": [
    "# assign global variable\n",
    "\n",
    "def f22(a22):\n",
    "    global b22\n",
    "    print(a22)\n",
    "    print(b22)\n",
    "    b22 = 9\n",
    "\n",
    "b22 = 6\n",
    "f22(3)\n",
    "print(b22)"
   ]
  },
  {
   "cell_type": "markdown",
   "metadata": {},
   "source": [
    "---"
   ]
  },
  {
   "cell_type": "markdown",
   "metadata": {},
   "source": [
    "# closure"
   ]
  },
  {
   "cell_type": "code",
   "execution_count": null,
   "metadata": {},
   "outputs": [],
   "source": [
    "# oop method\n",
    "\n",
    "class Averager():\n",
    "    def __init__(self):\n",
    "        self.series = []\n",
    "        \n",
    "    def __call__(self, value):\n",
    "        self.series.append(value)\n",
    "        total = sum(self.series)\n",
    "        return total/len(self.series)\n",
    "    \n",
    "avg1 = Averager()\n",
    "print(avg1(10))\n",
    "print(avg1(11))\n",
    "print(avg1(12))"
   ]
  },
  {
   "cell_type": "code",
   "execution_count": null,
   "metadata": {},
   "outputs": [],
   "source": [
    "# fp method\n",
    "\n",
    "def make_averager():\n",
    "    series = []\n",
    "    \n",
    "    def average(value):\n",
    "        series.append(value)\n",
    "        total = sum(series)\n",
    "        return total/len(series)\n",
    "    return average\n",
    "\n",
    "avg2 = make_averager()\n",
    "print(avg2(10))\n",
    "print(avg2(11))\n",
    "print(avg2(12))\n",
    "\n",
    "print(avg2.__code__.co_varnames)\n",
    "print(avg2.__code__.co_freevars)"
   ]
  },
  {
   "cell_type": "code",
   "execution_count": null,
   "metadata": {},
   "outputs": [],
   "source": [
    "# wrong variable scope\n",
    "\n",
    "def make_averager3():\n",
    "    count = 0\n",
    "    total = 0\n",
    "    \n",
    "    def average(value):\n",
    "        count += 1\n",
    "        total += value\n",
    "        return total/count\n",
    "    return average\n",
    "\n",
    "avg3 = make_averager3()\n",
    "print(avg3(10))\n",
    "print(avg3(11))\n",
    "print(avg3(12))"
   ]
  },
  {
   "cell_type": "code",
   "execution_count": null,
   "metadata": {},
   "outputs": [],
   "source": [
    "# variable scope in clouse\n",
    "\n",
    "def make_averager4():\n",
    "    count = 0\n",
    "    total = 0\n",
    "    \n",
    "    def average(value):\n",
    "        nonlocal count, total\n",
    "        count += 1\n",
    "        total += value\n",
    "        return total/count\n",
    "    return average\n",
    "\n",
    "avg4 = make_averager4()\n",
    "print(avg4(10))\n",
    "print(avg4(11))\n",
    "print(avg4(12))"
   ]
  }
 ],
 "metadata": {
  "kernelspec": {
   "display_name": "Python 3",
   "language": "python",
   "name": "python3"
  },
  "language_info": {
   "codemirror_mode": {
    "name": "ipython",
    "version": 3
   },
   "file_extension": ".py",
   "mimetype": "text/x-python",
   "name": "python",
   "nbconvert_exporter": "python",
   "pygments_lexer": "ipython3",
   "version": "3.6.0"
  }
 },
 "nbformat": 4,
 "nbformat_minor": 2
}
