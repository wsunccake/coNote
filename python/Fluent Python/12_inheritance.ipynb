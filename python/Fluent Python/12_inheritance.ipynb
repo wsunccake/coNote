{
 "cells": [
  {
   "cell_type": "code",
   "execution_count": 7,
   "metadata": {},
   "outputs": [
    {
     "name": "stdout",
     "output_type": "stream",
     "text": [
      "run ping\n",
      "ping: <__main__.D object at 0x104b46eb8>\n",
      "post-ping: <__main__.D object at 0x104b46eb8>\n",
      "run pingpong\n",
      "ping: <__main__.D object at 0x104b46eb8>\n",
      "post-ping: <__main__.D object at 0x104b46eb8>\n",
      "ping: <__main__.D object at 0x104b46eb8>\n",
      "pong: <__main__.D object at 0x104b46eb8>\n",
      "pong: <__main__.D object at 0x104b46eb8>\n",
      "PONG: <__main__.D object at 0x104b46eb8>\n",
      "[<class '__main__.D'>, <class '__main__.B'>, <class '__main__.C'>, <class '__main__.A'>, <class 'object'>]\n"
     ]
    }
   ],
   "source": [
    "class A:\n",
    "    def ping(self):\n",
    "        print('ping:', self)\n",
    "\n",
    "\n",
    "class B(A):\n",
    "    def pong(self):\n",
    "        print('pong:', self)\n",
    "\n",
    "\n",
    "class C(A):\n",
    "    def pong(self):\n",
    "        print('PONG:', self)\n",
    "\n",
    "\n",
    "class D(B, C):\n",
    "\n",
    "    def ping(self):\n",
    "        super().ping()\n",
    "        print('post-ping:', self)\n",
    "\n",
    "    def pingpong(self):\n",
    "        self.ping()\n",
    "        super().ping()\n",
    "        self.pong()\n",
    "        super().pong()\n",
    "        C.pong(self)\n",
    "\n",
    "d = D()\n",
    "print(\"run ping\")\n",
    "d.ping()\n",
    "\n",
    "print(\"run pingpong\")\n",
    "d.pingpong()\n",
    "\n",
    "print(D.mro())"
   ]
  }
 ],
 "metadata": {
  "kernelspec": {
   "display_name": "Python 3",
   "language": "python",
   "name": "python3"
  },
  "language_info": {
   "codemirror_mode": {
    "name": "ipython",
    "version": 3
   },
   "file_extension": ".py",
   "mimetype": "text/x-python",
   "name": "python",
   "nbconvert_exporter": "python",
   "pygments_lexer": "ipython3",
   "version": "3.6.0"
  }
 },
 "nbformat": 4,
 "nbformat_minor": 2
}
